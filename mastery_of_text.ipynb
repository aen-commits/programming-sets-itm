{
 "cells": [
  {
   "cell_type": "code",
   "execution_count": 3,
   "id": "cba19e63-9af5-47b6-8d7f-6c145574eda6",
   "metadata": {},
   "outputs": [],
   "source": [
    "#import and download the text\n",
    "\n",
    "import urllib.request\n",
    "\n",
    "url = \"https://www.gutenberg.org/cache/epub/10/pg10.txt\"\n",
    "response = urllib.request.urlopen(url)\n",
    "pg10_bytes = response.read()\n",
    "pg10 = pg10_bytes.decode('utf-8')"
   ]
  },
  {
   "cell_type": "code",
   "execution_count": 5,
   "id": "1a3f6d03-f1c4-47ac-807f-77b55da8c652",
   "metadata": {},
   "outputs": [
    {
     "name": "stdout",
     "output_type": "stream",
     "text": [
      "Number of lines: 99968\n"
     ]
    }
   ],
   "source": [
    "#count number of lines\n",
    "\n",
    "line_count = len(pg10.splitlines())\n",
    "print(\"Number of lines:\", line_count)"
   ]
  },
  {
   "cell_type": "code",
   "execution_count": 6,
   "id": "af424074-ffcd-4bde-9b17-efa1ce1e8c8d",
   "metadata": {},
   "outputs": [
    {
     "name": "stdout",
     "output_type": "stream",
     "text": [
      "Number of words: 795227\n"
     ]
    }
   ],
   "source": [
    "#count number of words \n",
    "\n",
    "import re\n",
    "\n",
    "words = re.findall(r\"[a-zA-Z]+\", pg10)\n",
    "word_count = len(words)\n",
    "print(\"Number of words:\", word_count)"
   ]
  },
  {
   "cell_type": "code",
   "execution_count": 7,
   "id": "ca5d7c85-46de-462a-b9e7-3b0adef71895",
   "metadata": {},
   "outputs": [
    {
     "name": "stdout",
     "output_type": "stream",
     "text": [
      "Occurrences of 'apostle': 47\n"
     ]
    }
   ],
   "source": [
    "#number of times the word \"apostle\" appears\n",
    "\n",
    "apostle_count = sum(1 for word in words if word.lower() == \"apostle\")\n",
    "print(\"Occurrences of 'apostle':\", apostle_count)"
   ]
  },
  {
   "cell_type": "code",
   "execution_count": 8,
   "id": "094fd6de-ec21-4bd6-8ce1-b308fa934735",
   "metadata": {},
   "outputs": [
    {
     "name": "stdout",
     "output_type": "stream",
     "text": [
      "Most common word: 'the' (occurs 64309 times)\n"
     ]
    }
   ],
   "source": [
    "#most common word (case sensitive)\n",
    "\n",
    "from collections import Counter\n",
    "\n",
    "lower_words = [word.lower() for word in words]\n",
    "most_common_word, freq = Counter(lower_words).most_common(1)[0]\n",
    "print(f\"Most common word: '{most_common_word}' (occurs {freq} times)\")"
   ]
  },
  {
   "cell_type": "code",
   "execution_count": null,
   "id": "1f26f5bb-acb6-45f3-bb29-b16e7e348f6c",
   "metadata": {},
   "outputs": [],
   "source": []
  }
 ],
 "metadata": {
  "kernelspec": {
   "display_name": "Python [conda env:base] *",
   "language": "python",
   "name": "conda-base-py"
  },
  "language_info": {
   "codemirror_mode": {
    "name": "ipython",
    "version": 3
   },
   "file_extension": ".py",
   "mimetype": "text/x-python",
   "name": "python",
   "nbconvert_exporter": "python",
   "pygments_lexer": "ipython3",
   "version": "3.12.7"
  }
 },
 "nbformat": 4,
 "nbformat_minor": 5
}
